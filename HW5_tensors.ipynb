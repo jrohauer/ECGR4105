{
  "nbformat": 4,
  "nbformat_minor": 0,
  "metadata": {
    "colab": {
      "provenance": [],
      "authorship_tag": "ABX9TyO1+QXnmIyqJMMFBj/QJncM",
      "include_colab_link": true
    },
    "kernelspec": {
      "name": "python3",
      "display_name": "Python 3"
    },
    "language_info": {
      "name": "python"
    }
  },
  "cells": [
    {
      "cell_type": "markdown",
      "metadata": {
        "id": "view-in-github",
        "colab_type": "text"
      },
      "source": [
        "<a href=\"https://colab.research.google.com/github/jrohauer/ECGR4105/blob/main/HW5_tensors.ipynb\" target=\"_parent\"><img src=\"https://colab.research.google.com/assets/colab-badge.svg\" alt=\"Open In Colab\"/></a>"
      ]
    },
    {
      "cell_type": "code",
      "execution_count": 61,
      "metadata": {
        "id": "ZSkOzIomwKm9"
      },
      "outputs": [],
      "source": [
        "import torch\n",
        "import torch.optim as optim\n",
        "import matplotlib.pyplot as plt\n",
        "import numpy as np\n",
        "import seaborn as sns\n",
        "sns.set()\n",
        "\n",
        "#Data\n",
        "t_c = [0.5, 14.0, 15.0, 28.0, 11.0, 8.0, 3.0, -4.0, 6.0, 13.0, 21.0]\n",
        "t_u = [35.7, 55.9, 58.2, 81.9, 56.3, 48.9, 33.9, 21.8, 48.4, 60.4, 68.4]\n",
        "t_c = torch.tensor(t_c)\n",
        "t_u = torch.tensor(t_u)"
      ]
    },
    {
      "cell_type": "code",
      "source": [
        "def linear_model(t_u,w, b):\n",
        "    return w*t_u+b\n",
        "\n",
        "\n",
        "def model(t_u, w1, w2, b):\n",
        "    return w2*t_u**2+w1*t_u+b\n",
        "\n",
        "\n",
        "\n",
        "def loss_fn(t_p, t_c):\n",
        "    squared_diffs = (t_p - t_c)**2\n",
        "    return squared_diffs.mean()\n",
        "\n",
        "w1=0.0\n",
        "w2=0.0\n",
        "b=0.0\n",
        "\n",
        "params = torch.tensor([w1,w2,b], requires_grad=True)"
      ],
      "metadata": {
        "id": "Lu3_HQnTwVBB"
      },
      "execution_count": 62,
      "outputs": []
    },
    {
      "cell_type": "code",
      "source": [
        "def training_loop(n_epochs,learning_rate,params,t_u,t_c):\n",
        "    for epoch in range(1,n_epochs +1):\n",
        "        if params.grad is not None:\n",
        "            params.grad.zero_()\n",
        "\n",
        "        t_p=model(t_u,*params)\n",
        "        loss=loss_fn(t_p,t_c)\n",
        "\n",
        "        optimizer.zero_grad()\n",
        "        loss.backward()\n",
        "        optimizer.step()\n",
        "\n",
        "        with torch.no_grad():\n",
        "            params -=learning_rate * params.grad\n",
        "\n",
        "        if epoch % 500 ==0:\n",
        "            print('Epoch %d, Loss %f' % (epoch,float(loss)))\n",
        "\n",
        "    return params"
      ],
      "metadata": {
        "id": "B3MTIYsFwYZp"
      },
      "execution_count": 63,
      "outputs": []
    },
    {
      "cell_type": "code",
      "source": [
        "for i in lrs:\n",
        "    print(\"\")\n",
        "    print(\"Learning Rate is \"+ str(i)+\" Optimizer = SGD\")\n",
        "    learning_rate = float(i)\n",
        "    params = torch.tensor([w1,w2,b], requires_grad=True)\n",
        "    optimizer = optim.SGD([params], lr=learning_rate)\n",
        "    training_loop(n_epochs=5000,learning_rate = learning_rate, params=params, t_u=t_u,t_c=t_c)\n",
        "\n",
        "\n",
        "for i in lrs:\n",
        "    print(\"\")\n",
        "    print(\"Learning Rate is \"+ str(i)+\" Optimizer = Adam\")\n",
        "    learning_rate = float(i)\n",
        "    params = torch.tensor([w1,w2,b], requires_grad=True)\n",
        "    optimizer = optim.Adam([params], lr=learning_rate)\n",
        "    training_loop(n_epochs=5000,learning_rate = learning_rate, params=params, t_u=t_u,t_c=t_c)"
      ],
      "metadata": {
        "colab": {
          "base_uri": "https://localhost:8080/"
        },
        "id": "fxNZTcdPF4no",
        "outputId": "1c7797e3-29e9-410c-b7fe-367b4c3ea271"
      },
      "execution_count": 64,
      "outputs": [
        {
          "output_type": "stream",
          "name": "stdout",
          "text": [
            "\n",
            "Learning Rate is 0.1 Optimizer = SGD\n",
            "Epoch 500, Loss nan\n",
            "Epoch 1000, Loss nan\n",
            "Epoch 1500, Loss nan\n",
            "Epoch 2000, Loss nan\n",
            "Epoch 2500, Loss nan\n",
            "Epoch 3000, Loss nan\n",
            "Epoch 3500, Loss nan\n",
            "Epoch 4000, Loss nan\n",
            "Epoch 4500, Loss nan\n",
            "Epoch 5000, Loss nan\n",
            "\n",
            "Learning Rate is 0.01 Optimizer = SGD\n",
            "Epoch 500, Loss nan\n",
            "Epoch 1000, Loss nan\n",
            "Epoch 1500, Loss nan\n",
            "Epoch 2000, Loss nan\n",
            "Epoch 2500, Loss nan\n",
            "Epoch 3000, Loss nan\n",
            "Epoch 3500, Loss nan\n",
            "Epoch 4000, Loss nan\n",
            "Epoch 4500, Loss nan\n",
            "Epoch 5000, Loss nan\n",
            "\n",
            "Learning Rate is 0.001 Optimizer = SGD\n",
            "Epoch 500, Loss nan\n",
            "Epoch 1000, Loss nan\n",
            "Epoch 1500, Loss nan\n",
            "Epoch 2000, Loss nan\n",
            "Epoch 2500, Loss nan\n",
            "Epoch 3000, Loss nan\n",
            "Epoch 3500, Loss nan\n",
            "Epoch 4000, Loss nan\n",
            "Epoch 4500, Loss nan\n",
            "Epoch 5000, Loss nan\n",
            "\n",
            "Learning Rate is 0.1 Optimizer = Adam\n",
            "Epoch 500, Loss nan\n",
            "Epoch 1000, Loss nan\n",
            "Epoch 1500, Loss nan\n",
            "Epoch 2000, Loss nan\n",
            "Epoch 2500, Loss nan\n",
            "Epoch 3000, Loss nan\n",
            "Epoch 3500, Loss nan\n",
            "Epoch 4000, Loss nan\n",
            "Epoch 4500, Loss nan\n",
            "Epoch 5000, Loss nan\n",
            "\n",
            "Learning Rate is 0.01 Optimizer = Adam\n",
            "Epoch 500, Loss nan\n",
            "Epoch 1000, Loss nan\n",
            "Epoch 1500, Loss nan\n",
            "Epoch 2000, Loss nan\n",
            "Epoch 2500, Loss nan\n",
            "Epoch 3000, Loss nan\n",
            "Epoch 3500, Loss nan\n",
            "Epoch 4000, Loss nan\n",
            "Epoch 4500, Loss nan\n",
            "Epoch 5000, Loss nan\n",
            "\n",
            "Learning Rate is 0.001 Optimizer = Adam\n",
            "Epoch 500, Loss nan\n",
            "Epoch 1000, Loss nan\n",
            "Epoch 1500, Loss nan\n",
            "Epoch 2000, Loss nan\n",
            "Epoch 2500, Loss nan\n",
            "Epoch 3000, Loss nan\n",
            "Epoch 3500, Loss nan\n",
            "Epoch 4000, Loss nan\n",
            "Epoch 4500, Loss nan\n",
            "Epoch 5000, Loss nan\n"
          ]
        }
      ]
    },
    {
      "cell_type": "code",
      "source": [
        "#Best Model\n",
        "learning_rate = 0.00000001\n",
        "params = torch.tensor([w1,w2,b], requires_grad=True)\n",
        "optimizer = optim.SGD([params], lr=learning_rate)\n",
        "training_loop(n_epochs=5000,learning_rate = learning_rate, params=params, t_u=t_u,t_c=t_c)\n",
        "\n",
        "t_p = model(t_u,*params)\n",
        "MSE = loss_fn(t_p,t_c)\n",
        "\n",
        "#Linear model\n",
        "l_params = torch.tensor([0.5367,-17.3021], requires_grad=True)\n",
        "linear_t_p = linear_model(t_u,*l_params)\n",
        "L_MSE = loss_fn(linear_t_p,t_c)"
      ],
      "metadata": {
        "colab": {
          "base_uri": "https://localhost:8080/"
        },
        "id": "mBDnwX6QwbHL",
        "outputId": "808c9523-ace6-4236-d2b3-69a9e61f19bb"
      },
      "execution_count": 65,
      "outputs": [
        {
          "output_type": "stream",
          "name": "stdout",
          "text": [
            "Epoch 500, Loss 8.015685\n",
            "Epoch 1000, Loss 7.990523\n",
            "Epoch 1500, Loss 7.965514\n",
            "Epoch 2000, Loss 7.940656\n",
            "Epoch 2500, Loss 7.915949\n",
            "Epoch 3000, Loss 7.891390\n",
            "Epoch 3500, Loss 7.866981\n",
            "Epoch 4000, Loss 7.842717\n",
            "Epoch 4500, Loss 7.818600\n",
            "Epoch 5000, Loss 7.794631\n"
          ]
        }
      ]
    },
    {
      "cell_type": "code",
      "source": [
        "linear_X = np.linspace(20,90,100)\n",
        "linear_Y = .5367*linear_X-17.3012\n",
        "\n",
        "np_params=params.detach().numpy()\n",
        "nlinear_Y = np_params[1]*linear_X**2+np_params[0]*linear_X-np_params[2]\n",
        "plt.scatter(t_u, t_c,color='r', label='Actual Data')\n",
        "plt.plot(linear_X,linear_Y, label='Linear Model')\n",
        "plt.plot(linear_X,nlinear_Y, color='g', label='Non Linear Model')\n",
        "plt.legend()\n",
        "\n",
        "plt.xlabel(\"Farenheit\")\n",
        "plt.ylabel(\"Celcius\")"
      ],
      "metadata": {
        "colab": {
          "base_uri": "https://localhost:8080/",
          "height": 476
        },
        "id": "NX_dw1f6FtcY",
        "outputId": "ba91a92e-af95-4d0f-a886-ffbc32b6d2b2"
      },
      "execution_count": 66,
      "outputs": [
        {
          "output_type": "execute_result",
          "data": {
            "text/plain": [
              "Text(0, 0.5, 'Celcius')"
            ]
          },
          "metadata": {},
          "execution_count": 66
        },
        {
          "output_type": "display_data",
          "data": {
            "text/plain": [
              "<Figure size 640x480 with 1 Axes>"
            ],
            "image/png": "[encoded data removed]"
          },
          "metadata": {}
        }
      ]
    },
    {
      "cell_type": "code",
      "source": [
        "#Problem 2\n",
        "from sklearn.model_selection import train_test_split\n",
        "import pandas as pd\n",
        "from sklearn.preprocessing import MinMaxScaler\n",
        "from google.colab import drive\n",
        "drive.mount('/content/drive')\n",
        "\n",
        "#Preprocessing\n",
        "file_path = '/content/drive/My Drive/ML_data/Housing.csv'\n",
        "dataset = pd.read_csv(file_path)\n",
        "\n",
        "#Mapping text to number\n",
        "varlist =  ['mainroad', 'guestroom', 'basement', 'hotwaterheating', 'airconditioning', 'prefarea']\n",
        "def binary_map(x):\n",
        "    return x.map({'yes': 1, 'no': 0})\n",
        "\n",
        "dataset[varlist] = dataset[varlist].apply(binary_map)\n",
        "\n",
        "#Split data into training and validation\n",
        "np.random.seed(17)\n",
        "df_train, df_test = train_test_split(dataset, train_size = 0.8, test_size = 0.2, random_state = 100)\n",
        "\n",
        "#Separate Y and X inputs\n",
        "\n",
        "X_Vars = ['area', 'bedrooms', 'bathrooms', 'stories','parking']\n",
        "\n",
        "Y_train = np.array(df_train['price'])\n",
        "X_train = df_train[X_Vars]\n",
        "\n",
        "Y_test = np.array(df_test['price'])\n",
        "X_test = df_test[X_Vars]\n",
        "\n",
        "#Min Max or Standard normalize\n",
        "scalerMM = MinMaxScaler()\n",
        "X_train = scalerMM.fit_transform(X_train)\n",
        "X_test = scalerMM.fit_transform(X_test)\n",
        "\n",
        "Y_train = torch.tensor(Y_train)\n",
        "X_train = torch.tensor(X_train)\n",
        "Y_test = torch.tensor(Y_test)\n",
        "X_test = torch.tensor(X_test)"
      ],
      "metadata": {
        "colab": {
          "base_uri": "https://localhost:8080/"
        },
        "id": "KPS4lGGNTjGR",
        "outputId": "ac07e301-9f3f-492a-a9b1-3ea953af5303"
      },
      "execution_count": 67,
      "outputs": [
        {
          "output_type": "stream",
          "name": "stdout",
          "text": [
            "Drive already mounted at /content/drive; to attempt to forcibly remount, call drive.mount(\"/content/drive\", force_remount=True).\n"
          ]
        }
      ]
    },
    {
      "cell_type": "code",
      "source": [
        "def house_model(X_train, w0, w1, w2, w3, w4, b):\n",
        "    return (X_train[:, 0] * w0) + (X_train[:, 1] * w1) + (X_train[:, 2] * w2) + (X_train[:, 3] * w3) + (X_train[:, 4] * w4) + b\n",
        "\n",
        "\n",
        "def house_loss_fn(est_price, price):\n",
        "    return torch.sqrt(torch.mean((est_price-price)**2))\n",
        "\n",
        "w0=0.0\n",
        "w1=0.0\n",
        "w2=0.0\n",
        "w3=0.0\n",
        "w4=0.0\n",
        "b=0.0\n",
        "\n",
        "\n",
        "params = torch.tensor([w0,w1,w2,w3,w4,b], requires_grad=True)"
      ],
      "metadata": {
        "id": "ST96ZFY0TmHy"
      },
      "execution_count": 68,
      "outputs": []
    },
    {
      "cell_type": "code",
      "source": [
        "\n",
        "def training_loop(n_epochs,learning_rate,params,X_train,Y_train):\n",
        "    for epoch in range(1,n_epochs +1):\n",
        "        if params.grad is not None:\n",
        "            params.grad.zero_()\n",
        "\n",
        "        est_price=house_model(X_train,*params)\n",
        "        loss=house_loss_fn(est_price,Y_train)\n",
        "\n",
        "        optimizer.zero_grad()\n",
        "        loss.backward()\n",
        "        optimizer.step()\n",
        "\n",
        "        with torch.no_grad():\n",
        "            params -=learning_rate * params.grad\n",
        "\n",
        "        if epoch % 500 ==0:\n",
        "            print('Epoch %d, Loss %f' % (epoch,float(loss)))\n",
        "\n",
        "    return params"
      ],
      "metadata": {
        "id": "Jq5qRSDvToDF"
      },
      "execution_count": 69,
      "outputs": []
    },
    {
      "cell_type": "code",
      "source": [
        "lrs = ['0.1','0.01','0.001']\n",
        "\n",
        "for i in lrs:\n",
        "    print(\"\")\n",
        "    print(\"Learning Rate is \"+ str(i)+\" Optimizer = SGD\")\n",
        "    learning_rate = float(i)\n",
        "    params = torch.tensor([w0,w1,w2,w3,w4,b], requires_grad=True)\n",
        "    optimizer = optim.SGD([params], lr=learning_rate)\n",
        "    training_loop(n_epochs=5000,learning_rate = learning_rate, params=params, X_train=X_train,Y_train=Y_train)\n",
        "\n",
        "\n",
        "for i in lrs:\n",
        "    print(\"\")\n",
        "    print(\"Learning Rate is \"+ str(i)+\" Optimizer = Adam\")\n",
        "    learning_rate = float(i)\n",
        "    params = torch.tensor([w0,w1,w2,w3,w4,b], requires_grad=True)\n",
        "    optimizer = optim.Adam([params], lr=learning_rate)\n",
        "    training_loop(n_epochs=5000,learning_rate = learning_rate, params=params, X_train=X_train,Y_train=Y_train)\n",
        ""
      ],
      "metadata": {
        "colab": {
          "base_uri": "https://localhost:8080/"
        },
        "id": "YEpjIPoKTsVK",
        "outputId": "01d65ae1-6a7d-4e76-83d3-94364213173d"
      },
      "execution_count": 70,
      "outputs": [
        {
          "output_type": "stream",
          "name": "stdout",
          "text": [
            "\n",
            "Learning Rate is 0.1 Optimizer = SGD\n",
            "Epoch 500, Loss 5145514.554778\n",
            "Epoch 1000, Loss 5145389.948722\n",
            "Epoch 1500, Loss 5145265.341379\n",
            "Epoch 2000, Loss 5145140.734721\n",
            "Epoch 2500, Loss 5145016.128072\n",
            "Epoch 3000, Loss 5144891.521356\n",
            "Epoch 3500, Loss 5144766.915415\n",
            "Epoch 4000, Loss 5144642.309766\n",
            "Epoch 4500, Loss 5144517.706257\n",
            "Epoch 5000, Loss 5144393.106874\n",
            "\n",
            "Learning Rate is 0.01 Optimizer = SGD\n",
            "Epoch 500, Loss 5145626.475612\n",
            "Epoch 1000, Loss 5145614.015175\n",
            "Epoch 1500, Loss 5145601.555439\n",
            "Epoch 2000, Loss 5145589.095576\n",
            "Epoch 2500, Loss 5145576.635672\n",
            "Epoch 3000, Loss 5145564.175772\n",
            "Epoch 3500, Loss 5145551.715772\n",
            "Epoch 4000, Loss 5145539.252864\n",
            "Epoch 4500, Loss 5145526.789532\n",
            "Epoch 5000, Loss 5145514.325904\n",
            "\n",
            "Learning Rate is 0.001 Optimizer = SGD\n",
            "Epoch 500, Loss 5145637.667641\n",
            "Epoch 1000, Loss 5145636.421618\n",
            "Epoch 1500, Loss 5145635.175598\n",
            "Epoch 2000, Loss 5145633.929567\n",
            "Epoch 2500, Loss 5145632.683373\n",
            "Epoch 3000, Loss 5145631.437113\n",
            "Epoch 3500, Loss 5145630.190854\n",
            "Epoch 4000, Loss 5145628.944595\n",
            "Epoch 4500, Loss 5145627.698520\n",
            "Epoch 5000, Loss 5145626.452705\n",
            "\n",
            "Learning Rate is 0.1 Optimizer = Adam\n",
            "Epoch 500, Loss 5145464.930339\n",
            "Epoch 1000, Loss 5145290.598665\n",
            "Epoch 1500, Loss 5145116.261655\n",
            "Epoch 2000, Loss 5144941.926066\n",
            "Epoch 2500, Loss 5144767.591994\n",
            "Epoch 3000, Loss 5144593.267519\n",
            "Epoch 3500, Loss 5144418.947819\n",
            "Epoch 4000, Loss 5144244.635809\n",
            "Epoch 4500, Loss 5144070.336010\n",
            "Epoch 5000, Loss 5143896.039197\n",
            "\n",
            "Learning Rate is 0.01 Optimizer = Adam\n",
            "Epoch 500, Loss 5145621.512997\n",
            "Epoch 1000, Loss 5145604.079802\n",
            "Epoch 1500, Loss 5145586.646968\n",
            "Epoch 2000, Loss 5145569.214830\n",
            "Epoch 2500, Loss 5145551.782996\n",
            "Epoch 3000, Loss 5145534.351666\n",
            "Epoch 3500, Loss 5145516.919130\n",
            "Epoch 4000, Loss 5145499.484370\n",
            "Epoch 4500, Loss 5145482.049614\n",
            "Epoch 5000, Loss 5145464.614184\n",
            "\n",
            "Learning Rate is 0.001 Optimizer = Adam\n",
            "Epoch 500, Loss 5145637.171396\n",
            "Epoch 1000, Loss 5145635.428077\n",
            "Epoch 1500, Loss 5145633.684784\n",
            "Epoch 2000, Loss 5145631.941556\n",
            "Epoch 2500, Loss 5145630.198240\n",
            "Epoch 3000, Loss 5145628.454909\n",
            "Epoch 3500, Loss 5145626.711540\n",
            "Epoch 4000, Loss 5145624.968160\n",
            "Epoch 4500, Loss 5145623.224783\n",
            "Epoch 5000, Loss 5145621.481406\n"
          ]
        }
      ]
    },
    {
      "cell_type": "code",
      "source": [
        "#Best Model\n",
        "learning_rate = 0.1\n",
        "params = torch.tensor([w0,w1,w2,w3,w4,b], requires_grad=True)\n",
        "optimizer = optim.Adam([params], lr=learning_rate)\n",
        "training_loop(n_epochs=5000,learning_rate = learning_rate, params=params, X_train=X_train,Y_train=Y_train)\n",
        "params\n",
        "\n",
        "test_price = house_model(X_test,*params)\n",
        "test_RMSE = house_loss_fn(test_price,Y_test)"
      ],
      "metadata": {
        "colab": {
          "base_uri": "https://localhost:8080/"
        },
        "id": "7Mtc7SewTuNq",
        "outputId": "152b3543-2fbf-4a9b-a710-d0929eb019e5"
      },
      "execution_count": 71,
      "outputs": [
        {
          "output_type": "stream",
          "name": "stdout",
          "text": [
            "Epoch 500, Loss 5145464.930339\n",
            "Epoch 1000, Loss 5145290.598665\n",
            "Epoch 1500, Loss 5145116.261655\n",
            "Epoch 2000, Loss 5144941.926066\n",
            "Epoch 2500, Loss 5144767.591994\n",
            "Epoch 3000, Loss 5144593.267519\n",
            "Epoch 3500, Loss 5144418.947819\n",
            "Epoch 4000, Loss 5144244.635809\n",
            "Epoch 4500, Loss 5144070.336010\n",
            "Epoch 5000, Loss 5143896.039197\n"
          ]
        }
      ]
    },
    {
      "cell_type": "code",
      "source": [
        "#Problem 3\n",
        "from sklearn.model_selection import train_test_split\n",
        "import pandas as pd\n",
        "from sklearn.preprocessing import MinMaxScaler\n",
        "#Preprocessing\n",
        "file_path = '/content/drive/My Drive/ML_data/Housing.csv'\n",
        "dataset = pd.read_csv(file_path)\n",
        "\n",
        "#Mapping text to number\n",
        "varlist =  ['mainroad', 'guestroom', 'basement', 'hotwaterheating', 'airconditioning', 'prefarea']\n",
        "def binary_map(x):\n",
        "    return x.map({'yes': 1, 'no': 0})\n",
        "\n",
        "dataset[varlist] = dataset[varlist].apply(binary_map)\n",
        "\n",
        "#Split data into training and validation\n",
        "np.random.seed(17)\n",
        "df_train, df_test = train_test_split(dataset, train_size = 0.8, test_size = 0.2, random_state = 100)\n",
        "\n",
        "#Separate Y and X inputs\n",
        "\n",
        "X_Vars = ['area', 'bedrooms', 'bathrooms', 'stories', 'mainroad', 'guestroom','basement','hotwaterheating','airconditioning','parking','prefarea']\n",
        "\n",
        "Y_train = np.array(df_train['price'])\n",
        "X_train = df_train[X_Vars]\n",
        "\n",
        "Y_test = np.array(df_test['price'])\n",
        "X_test = df_test[X_Vars]\n",
        "\n",
        "#Min Max or Standard normalize\n",
        "scalerMM = MinMaxScaler()\n",
        "X_train = scalerMM.fit_transform(X_train)\n",
        "X_test = scalerMM.fit_transform(X_test)\n",
        "\n",
        "Y_train = torch.tensor(Y_train)\n",
        "X_train = torch.tensor(X_train)\n",
        "Y_test = torch.tensor(Y_test)\n",
        "X_test = torch.tensor(X_test)"
      ],
      "metadata": {
        "id": "fDMvWNayTu5i"
      },
      "execution_count": 72,
      "outputs": []
    },
    {
      "cell_type": "code",
      "source": [
        "def house_model(X_train, w0, w1, w2, w3, w4, w5, w6, w7, w8, w9, w10, b):\n",
        "    return (X_train[:, 0] * w0) + (X_train[:, 1] * w1) + (X_train[:, 2] * w2) + (X_train[:, 3] * w3) + (X_train[:, 4] * w4) + (X_train[:, 5] * w5) + (X_train[:, 6] * w6) + (X_train[:, 7] * w7)+ (X_train[:, 8] * w8)+ (X_train[:, 9] * w9)+ (X_train[:, 10] * w10)+ b\n",
        "\n",
        "\n",
        "def house_loss_fn(est_price, price):\n",
        "    return torch.sqrt(torch.mean((est_price-price)**2))\n",
        "\n",
        "w0=0\n",
        "w1=0.0\n",
        "w2=0.0\n",
        "w3=0.0\n",
        "w4=0.0\n",
        "w5=0.0\n",
        "w6=0.0\n",
        "w7=0.0\n",
        "w8=0.0\n",
        "w9=0.0\n",
        "w10=0.0\n",
        "b=0.0\n",
        "\n",
        "\n",
        "params = torch.tensor([w0,w1,w2,w3,w4,w5,w6,w7,w8,w9,w10,b], requires_grad=True)"
      ],
      "metadata": {
        "id": "mbPltIGeXqdO"
      },
      "execution_count": 73,
      "outputs": []
    },
    {
      "cell_type": "code",
      "source": [
        "def training_loop(n_epochs,learning_rate,params,X_train,Y_train):\n",
        "    for epoch in range(1,n_epochs +1):\n",
        "        if params.grad is not None:\n",
        "            params.grad.zero_()\n",
        "\n",
        "        est_price=house_model(X_train,*params)\n",
        "        loss=house_loss_fn(est_price,Y_train)\n",
        "\n",
        "        optimizer.zero_grad()\n",
        "        loss.backward()\n",
        "        optimizer.step()\n",
        "\n",
        "        with torch.no_grad():\n",
        "            params -=learning_rate * params.grad\n",
        "\n",
        "        if epoch % 500 ==0:\n",
        "            print('Epoch %d, Loss %f' % (epoch,float(loss)))\n",
        "\n",
        "    return params"
      ],
      "metadata": {
        "id": "jQBjoqrbXsYH"
      },
      "execution_count": 74,
      "outputs": []
    },
    {
      "cell_type": "code",
      "source": [
        "lrs = [0.1,0.01,0.001,0.0001]\n",
        "\n",
        "for i in lrs:\n",
        "    print(\"\")\n",
        "    print(\"Learning Rate is \"+ str(i)+\" Optimizer = SGD\")\n",
        "    learning_rate = float(i)\n",
        "    params = torch.tensor([w0,w1,w2,w3,w4,w5,w6,w7,w8,w9,w10,b], requires_grad=True)\n",
        "    optimizer = optim.SGD([params], lr=learning_rate)\n",
        "    training_loop(n_epochs=5000,learning_rate = learning_rate, params=params, X_train=X_train,Y_train=Y_train)\n",
        "\n",
        "\n",
        "for i in lrs:\n",
        "    print(\"\")\n",
        "    print(\"Learning Rate is \"+ str(i)+\" Optimizer = Adam\")\n",
        "    learning_rate = float(i)\n",
        "    params = torch.tensor([w0,w1,w2,w3,w4,w5,w6,w7,w8,w9,w10,b], requires_grad=True)\n",
        "    optimizer = optim.Adam([params], lr=learning_rate)\n",
        "    training_loop(n_epochs=5000,learning_rate = learning_rate, params=params, X_train=X_train,Y_train=Y_train)"
      ],
      "metadata": {
        "colab": {
          "base_uri": "https://localhost:8080/"
        },
        "id": "yaS2S7wRXueL",
        "outputId": "4b8e5cf9-c584-4cfb-eb6c-a9475150cd62"
      },
      "execution_count": 75,
      "outputs": [
        {
          "output_type": "stream",
          "name": "stdout",
          "text": [
            "\n",
            "Learning Rate is 0.1 Optimizer = SGD\n",
            "Epoch 500, Loss 5145407.516004\n",
            "Epoch 1000, Loss 5145175.655058\n",
            "Epoch 1500, Loss 5144943.798838\n",
            "Epoch 2000, Loss 5144711.945818\n",
            "Epoch 2500, Loss 5144480.095262\n",
            "Epoch 3000, Loss 5144248.246989\n",
            "Epoch 3500, Loss 5144016.376603\n",
            "Epoch 4000, Loss 5143784.500861\n",
            "Epoch 4500, Loss 5143552.626407\n",
            "Epoch 5000, Loss 5143320.756628\n",
            "\n",
            "Learning Rate is 0.01 Optimizer = SGD\n",
            "Epoch 500, Loss 5145615.771585\n",
            "Epoch 1000, Loss 5145592.585966\n",
            "Epoch 1500, Loss 5145569.400237\n",
            "Epoch 2000, Loss 5145546.214232\n",
            "Epoch 2500, Loss 5145523.028460\n",
            "Epoch 3000, Loss 5145499.842857\n",
            "Epoch 3500, Loss 5145476.657167\n",
            "Epoch 4000, Loss 5145453.468585\n",
            "Epoch 4500, Loss 5145430.279582\n",
            "Epoch 5000, Loss 5145407.089666\n",
            "\n",
            "Learning Rate is 0.001 Optimizer = SGD\n",
            "Epoch 500, Loss 5145636.597249\n",
            "Epoch 1000, Loss 5145634.278659\n",
            "Epoch 1500, Loss 5145631.960114\n",
            "Epoch 2000, Loss 5145629.641579\n",
            "Epoch 2500, Loss 5145627.322832\n",
            "Epoch 3000, Loss 5145625.003882\n",
            "Epoch 3500, Loss 5145622.684961\n",
            "Epoch 4000, Loss 5145620.366040\n",
            "Epoch 4500, Loss 5145618.047302\n",
            "Epoch 5000, Loss 5145615.729021\n",
            "\n",
            "Learning Rate is 0.0001 Optimizer = SGD\n",
            "Epoch 500, Loss 5145638.679801\n",
            "Epoch 1000, Loss 5145638.447935\n",
            "Epoch 1500, Loss 5145638.216073\n",
            "Epoch 2000, Loss 5145637.984233\n",
            "Epoch 2500, Loss 5145637.752392\n",
            "Epoch 3000, Loss 5145637.520531\n",
            "Epoch 3500, Loss 5145637.288636\n",
            "Epoch 4000, Loss 5145637.056746\n",
            "Epoch 4500, Loss 5145636.824857\n",
            "Epoch 5000, Loss 5145636.592966\n",
            "\n",
            "Learning Rate is 0.1 Optimizer = Adam\n",
            "Epoch 500, Loss 5145307.977479\n",
            "Epoch 1000, Loss 5144976.374828\n",
            "Epoch 1500, Loss 5144644.769831\n",
            "Epoch 2000, Loss 5144313.170352\n",
            "Epoch 2500, Loss 5143981.569387\n",
            "Epoch 3000, Loss 5143649.978318\n",
            "Epoch 3500, Loss 5143318.393051\n",
            "Epoch 4000, Loss 5142986.823952\n",
            "Epoch 4500, Loss 5142655.281811\n",
            "Epoch 5000, Loss 5142323.746184\n",
            "\n",
            "Learning Rate is 0.01 Optimizer = Adam\n",
            "Epoch 500, Loss 5145605.817449\n",
            "Epoch 1000, Loss 5145572.657119\n",
            "Epoch 1500, Loss 5145539.496936\n",
            "Epoch 2000, Loss 5145506.337912\n",
            "Epoch 2500, Loss 5145473.179682\n",
            "Epoch 3000, Loss 5145440.022440\n",
            "Epoch 3500, Loss 5145406.864008\n",
            "Epoch 4000, Loss 5145373.701829\n",
            "Epoch 4500, Loss 5145340.539665\n",
            "Epoch 5000, Loss 5145307.376036\n",
            "\n",
            "Learning Rate is 0.001 Optimizer = Adam\n",
            "Epoch 500, Loss 5145635.601859\n",
            "Epoch 1000, Loss 5145632.285797\n",
            "Epoch 1500, Loss 5145628.969820\n",
            "Epoch 2000, Loss 5145625.654008\n",
            "Epoch 2500, Loss 5145622.338047\n",
            "Epoch 3000, Loss 5145619.022027\n",
            "Epoch 3500, Loss 5145615.705900\n",
            "Epoch 4000, Loss 5145612.389780\n",
            "Epoch 4500, Loss 5145609.073662\n",
            "Epoch 5000, Loss 5145605.757544\n",
            "\n",
            "Learning Rate is 0.0001 Optimizer = Adam\n",
            "Epoch 500, Loss 5145638.580259\n",
            "Epoch 1000, Loss 5145638.248653\n",
            "Epoch 1500, Loss 5145637.917055\n",
            "Epoch 2000, Loss 5145637.585478\n",
            "Epoch 2500, Loss 5145637.253916\n",
            "Epoch 3000, Loss 5145636.922318\n",
            "Epoch 3500, Loss 5145636.590703\n",
            "Epoch 4000, Loss 5145636.259074\n",
            "Epoch 4500, Loss 5145635.927428\n",
            "Epoch 5000, Loss 5145635.595777\n"
          ]
        }
      ]
    },
    {
      "cell_type": "code",
      "source": [
        "#Best Model\n",
        "learning_rate = 0.1\n",
        "params = torch.tensor([w0,w1,w2,w3,w4,w5,w6,w7,w8,w9,w10,b], requires_grad=True)\n",
        "optimizer = optim.Adam([params], lr=learning_rate)\n",
        "training_loop(n_epochs=5000,learning_rate = learning_rate, params=params, X_train=X_train,Y_train=Y_train)\n",
        "params\n",
        "\n",
        "test_price = house_model(X_test,*params)\n",
        "test_RMSE = house_loss_fn(test_price,Y_test)"
      ],
      "metadata": {
        "colab": {
          "base_uri": "https://localhost:8080/"
        },
        "id": "U_j-GmOmXxpI",
        "outputId": "d5ee4aa6-fb4f-4475-ea39-03bc0fc72670"
      },
      "execution_count": 76,
      "outputs": [
        {
          "output_type": "stream",
          "name": "stdout",
          "text": [
            "Epoch 500, Loss 5145307.977479\n",
            "Epoch 1000, Loss 5144976.374828\n",
            "Epoch 1500, Loss 5144644.769831\n",
            "Epoch 2000, Loss 5144313.170352\n",
            "Epoch 2500, Loss 5143981.569387\n",
            "Epoch 3000, Loss 5143649.978318\n",
            "Epoch 3500, Loss 5143318.393051\n",
            "Epoch 4000, Loss 5142986.823952\n",
            "Epoch 4500, Loss 5142655.281811\n",
            "Epoch 5000, Loss 5142323.746184\n"
          ]
        }
      ]
    }
  ]
}