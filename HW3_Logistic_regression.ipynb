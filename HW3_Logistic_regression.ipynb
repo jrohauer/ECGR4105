{
  "nbformat": 4,
  "nbformat_minor": 0,
  "metadata": {
    "colab": {
      "provenance": [],
      "toc_visible": true,
      "authorship_tag": "ABX9TyOCIq37zofMMIS78nVj+Tqw",
      "include_colab_link": true
    },
    "kernelspec": {
      "name": "python3",
      "display_name": "Python 3"
    },
    "language_info": {
      "name": "python"
    }
  },
  "cells": [
    {
      "cell_type": "markdown",
      "metadata": {
        "id": "view-in-github",
        "colab_type": "text"
      },
      "source": [
        "<a href=\"https://colab.research.google.com/github/jrohauer/ECGR4105/blob/main/HW3_Logistic_regression.ipynb\" target=\"_parent\"><img src=\"https://colab.research.google.com/assets/colab-badge.svg\" alt=\"Open In Colab\"/></a>"
      ]
    },
    {
      "cell_type": "code",
      "execution_count": 2,
      "metadata": {
        "colab": {
          "base_uri": "https://localhost:8080/"
        },
        "id": "Z-m9fNWLiXBt",
        "outputId": "099da04c-1834-4c31-8c0e-dee786fbc706"
      },
      "outputs": [
        {
          "output_type": "stream",
          "name": "stdout",
          "text": [
            "Mounted at /content/drive\n"
          ]
        }
      ],
      "source": [
        " # Josh Rohauer\n",
        " # 8007098398\n",
        " # Homework 3\n",
        "\n",
        "\n",
        " import numpy as np\n",
        " import pandas as pd\n",
        " import matplotlib.pyplot as plt\n",
        " from sklearn.model_selection import train_test_split\n",
        " from sklearn.preprocessing import MinMaxScaler\n",
        " from sklearn.preprocessing import StandardScaler\n",
        " import seaborn as sns\n",
        " sns.set()\n",
        " from sklearn.linear_model import LogisticRegression\n",
        "\n",
        "from google.colab import drive\n",
        "drive.mount('/content/drive')"
      ]
    },
    {
      "cell_type": "code",
      "source": [
        "# Problem 1\n",
        "#Preprocessing\n",
        "file_path = '/content/drive/My Drive/ML_data/diabetes.csv'\n",
        "diabetes = pd.read_csv(file_path)\n",
        "\n",
        "diabetes_X = diabetes.loc[:, ~diabetes.columns.isin(['Outcome'])]\n",
        "diabetes_Y = diabetes['Outcome'].values\n",
        "\n",
        "np.random.seed(17)\n",
        "diabetes_X_train, diabetes_X_test, diabetes_Y_train, diabetes_Y_test  = train_test_split(diabetes_X, diabetes_Y, train_size = 0.8, test_size = 0.2, random_state = 100)\n",
        "\n",
        "#Scalar normalization\n",
        "scalerMM = MinMaxScaler()\n",
        "scalerSS = StandardScaler()\n",
        "\n",
        "\n",
        "#Min Max or Standard normalize\n",
        "diabetes_X_train = scalerMM.fit_transform(diabetes_X_train)\n",
        "diabetes_X_test = scalerMM.fit_transform(diabetes_X_test)\n",
        "# df_train = scalerSS.fit_transform(df_train)\n",
        "# df_test = scalerSS.fit_transform(df_test)"
      ],
      "metadata": {
        "id": "H0VSdAocikTW"
      },
      "execution_count": 3,
      "outputs": []
    },
    {
      "cell_type": "code",
      "source": [
        "\n",
        "classifier = LogisticRegression(random_state=0)\n",
        "classifier.fit(diabetes_X_train, diabetes_Y_train)\n",
        "\n",
        "diabetes_Y_pred = classifier.predict(diabetes_X_test)"
      ],
      "metadata": {
        "id": "hIdtPh_CjJDd"
      },
      "execution_count": 4,
      "outputs": []
    },
    {
      "cell_type": "code",
      "source": [
        "from sklearn import metrics\n",
        "print(\"Accuracy:\",metrics.accuracy_score(diabetes_Y_test, diabetes_Y_pred))\n",
        "print(\"Precision:\",metrics.precision_score(diabetes_Y_test, diabetes_Y_pred))\n",
        "print(\"Recall:\",metrics.recall_score(diabetes_Y_test, diabetes_Y_pred))\n",
        "print(\"F1 Score:\",metrics.f1_score(diabetes_Y_test, diabetes_Y_pred))\n",
        "print(\"Coefficients: \")\n",
        "classifier.coef_"
      ],
      "metadata": {
        "colab": {
          "base_uri": "https://localhost:8080/"
        },
        "id": "e8c47kTQjKK-",
        "outputId": "41ca87c7-4908-413e-8c15-56b295ffb491"
      },
      "execution_count": 5,
      "outputs": [
        {
          "output_type": "stream",
          "name": "stdout",
          "text": [
            "Accuracy: 0.7272727272727273\n",
            "Precision: 0.6486486486486487\n",
            "Recall: 0.4528301886792453\n",
            "F1 Score: 0.5333333333333334\n",
            "Coefficients: \n"
          ]
        },
        {
          "output_type": "execute_result",
          "data": {
            "text/plain": [
              "array([[ 1.18297028,  4.73342686, -0.46561869,  0.03511145,  0.13594228,\n",
              "         3.16635675,  1.84020912,  1.08030704]])"
            ]
          },
          "metadata": {},
          "execution_count": 5
        }
      ]
    },
    {
      "cell_type": "code",
      "source": [
        "from sklearn.metrics import confusion_matrix\n",
        "cnf_matrix = confusion_matrix(diabetes_Y_test, diabetes_Y_pred)\n",
        "cnf_matrix\n",
        "\n",
        "\n",
        "class_names=[0,1] # name  of classes\n",
        "fig, ax = plt.subplots()\n",
        "tick_marks = np.arange(len(class_names))\n",
        "plt.xticks(tick_marks, class_names)\n",
        "plt.yticks(tick_marks, class_names)\n",
        "# create heatmap\n",
        "sns.heatmap(pd.DataFrame(cnf_matrix), annot=True, cmap=\"YlGnBu\" ,fmt='g')\n",
        "ax.xaxis.set_label_position(\"top\")\n",
        "plt.tight_layout()\n",
        "plt.title('Confusion matrix', y=1.1)\n",
        "plt.ylabel('Actual label')\n",
        "plt.xlabel('Predicted label')"
      ],
      "metadata": {
        "colab": {
          "base_uri": "https://localhost:8080/",
          "height": 562
        },
        "id": "TJgKXhE-jMoT",
        "outputId": "8c29a16a-e073-4eb1-8196-aa4ad47b9b9d"
      },
      "execution_count": 6,
      "outputs": [
        {
          "output_type": "execute_result",
          "data": {
            "text/plain": [
              "Text(0.5, 427.9555555555555, 'Predicted label')"
            ]
          },
          "metadata": {},
          "execution_count": 6
        },
        {
          "output_type": "display_data",
          "data": {
            "text/plain": [
              "<Figure size 640x480 with 2 Axes>"
            ],
            "image/png": "[encoded data removed]"
          },
          "metadata": {}
        }
      ]
    },
    {
      "cell_type": "code",
      "source": [
        "\n",
        "# Problem 2\n",
        "#Preprocessing\n",
        "file_path = '/content/drive/My Drive/ML_data/cancer.csv'\n",
        "cancer_dataset = pd.read_csv(file_path)\n",
        "\n",
        "#Mapping text to number\n",
        "varlist =  ['diagnosis']\n",
        "def binary_map(x):\n",
        "    return x.map({'B': 0, 'M': 1})\n",
        "\n",
        "cancer_dataset[varlist] = cancer_dataset[varlist].apply(binary_map)\n",
        "\n",
        "\n",
        "cancer_X = cancer_dataset.loc[:, ~cancer_dataset.columns.isin(['id', 'diagnosis','Unnamed: 32'])]\n",
        "cancer_Y = cancer_dataset['diagnosis'].values\n",
        "\n",
        "\n",
        "\n",
        "np.random.seed(17)\n",
        "cancer_X_train, cancer_X_test, cancer_Y_train, cancer_Y_test = train_test_split(cancer_X,cancer_Y, train_size = 0.8, test_size = 0.2, random_state = 100)\n"
      ],
      "metadata": {
        "id": "ZP_YeBJ3lkh9"
      },
      "execution_count": 7,
      "outputs": []
    },
    {
      "cell_type": "code",
      "source": [
        "#Scalar normalization\n",
        "scalerMM = MinMaxScaler()\n",
        "scalerSS = StandardScaler()\n",
        "\n",
        "\n",
        "#Min Max or Standard normalize\n",
        "cancer_X_train = scalerMM.fit_transform(cancer_X_train)\n",
        "cancer_X_test = scalerMM.fit_transform(cancer_X_test)\n",
        "# df_train = scalerSS.fit_transform(df_train)\n",
        "# df_test = scalerSS.fit_transform(df_test)\n",
        "\n",
        "classifier = LogisticRegression(random_state=0)\n",
        "classifier.fit(cancer_X_train, cancer_Y_train)\n",
        "\n",
        "cancer_Y_pred = classifier.predict(cancer_X_test)"
      ],
      "metadata": {
        "id": "ZoK9qEv7ln_V"
      },
      "execution_count": 8,
      "outputs": []
    },
    {
      "cell_type": "code",
      "source": [
        "from sklearn import metrics\n",
        "print(\"Accuracy:\",metrics.accuracy_score(cancer_Y_test, cancer_Y_pred))\n",
        "print(\"Precision:\",metrics.precision_score(cancer_Y_test, cancer_Y_pred))\n",
        "print(\"Recall:\",metrics.recall_score(cancer_Y_test, cancer_Y_pred))\n",
        "print(\"F1 Score:\",metrics.f1_score(cancer_Y_test, cancer_Y_pred))\n",
        "print(\"Coefficients: \")\n",
        "print(classifier.coef_)\n",
        "\n",
        "from sklearn.metrics import confusion_matrix\n",
        "cnf_matrix = confusion_matrix(cancer_Y_test, cancer_Y_pred)\n",
        "cnf_matrix"
      ],
      "metadata": {
        "colab": {
          "base_uri": "https://localhost:8080/"
        },
        "id": "gMZIXW_ZlqEu",
        "outputId": "2b169d96-6223-4e38-8433-b863efec53bf"
      },
      "execution_count": 9,
      "outputs": [
        {
          "output_type": "stream",
          "name": "stdout",
          "text": [
            "Accuracy: 0.9298245614035088\n",
            "Precision: 1.0\n",
            "Recall: 0.8367346938775511\n",
            "F1 Score: 0.9111111111111111\n",
            "Coefficients: \n",
            "[[ 1.51404437  1.63238771  1.49053823  1.28652592  0.75363465  0.38915706\n",
            "   1.36160684  1.95643537  0.63908452 -0.84592426  1.1602516   0.3499843\n",
            "   0.90385172  0.7594199   0.23380182 -0.53593815 -0.19028813  0.58331048\n",
            "  -0.23593005 -0.62223613  2.1817482   2.1888375   2.13676803  1.89339603\n",
            "   1.59026818  0.64866585  1.20712125  2.47125173  1.22281667  0.26499392]]\n"
          ]
        },
        {
          "output_type": "execute_result",
          "data": {
            "text/plain": [
              "array([[65,  0],\n",
              "       [ 8, 41]])"
            ]
          },
          "metadata": {},
          "execution_count": 9
        }
      ]
    },
    {
      "cell_type": "code",
      "source": [
        "\n",
        "class_names=[0,1] # name  of classes\n",
        "fig, ax = plt.subplots()\n",
        "tick_marks = np.arange(len(class_names))\n",
        "plt.xticks(tick_marks, class_names)\n",
        "plt.yticks(tick_marks, class_names)\n",
        "# create heatmap\n",
        "sns.heatmap(pd.DataFrame(cnf_matrix), annot=True, cmap=\"YlGnBu\" ,fmt='g')\n",
        "ax.xaxis.set_label_position(\"top\")\n",
        "plt.tight_layout()\n",
        "plt.title('Confusion matrix', y=1.1)\n",
        "plt.ylabel('Actual label')\n",
        "plt.xlabel('Predicted label')"
      ],
      "metadata": {
        "colab": {
          "base_uri": "https://localhost:8080/",
          "height": 562
        },
        "id": "BZoXM3xslskA",
        "outputId": "d95b3c18-496f-47a1-ead8-eb877e979466"
      },
      "execution_count": 10,
      "outputs": [
        {
          "output_type": "execute_result",
          "data": {
            "text/plain": [
              "Text(0.5, 427.9555555555555, 'Predicted label')"
            ]
          },
          "metadata": {},
          "execution_count": 10
        },
        {
          "output_type": "display_data",
          "data": {
            "text/plain": [
              "<Figure size 640x480 with 2 Axes>"
            ],
            "image/png": "[encoded data removed]"
          },
          "metadata": {}
        }
      ]
    },
    {
      "cell_type": "code",
      "source": [
        "#With Penalty\n",
        "C = [10, 1, .1, .001]\n",
        "\n",
        "for c in C:\n",
        "    clf = LogisticRegression(penalty='l1', C=c, solver='liblinear')\n",
        "    clf.fit(cancer_X_train, cancer_Y_train)\n",
        "    print('C:', c)\n",
        "    print('Training accuracy:', clf.score(cancer_X_train, cancer_Y_train))\n",
        "    print('Test accuracy:', clf.score(cancer_X_train, cancer_Y_train))\n",
        "    print('')"
      ],
      "metadata": {
        "colab": {
          "base_uri": "https://localhost:8080/"
        },
        "id": "ptK8QCKMoOyc",
        "outputId": "a96262ec-852c-4e5f-b3e0-d970247ffaaa"
      },
      "execution_count": 11,
      "outputs": [
        {
          "output_type": "stream",
          "name": "stdout",
          "text": [
            "C: 10\n",
            "Training accuracy: 0.9934065934065934\n",
            "Test accuracy: 0.9934065934065934\n",
            "\n",
            "C: 1\n",
            "Training accuracy: 0.9692307692307692\n",
            "Test accuracy: 0.9692307692307692\n",
            "\n",
            "C: 0.1\n",
            "Training accuracy: 0.9296703296703297\n",
            "Test accuracy: 0.9296703296703297\n",
            "\n",
            "C: 0.001\n",
            "Training accuracy: 0.6417582417582418\n",
            "Test accuracy: 0.6417582417582418\n",
            "\n"
          ]
        }
      ]
    },
    {
      "cell_type": "code",
      "source": [
        "#Problem 3\n",
        "from sklearn.naive_bayes import GaussianNB\n",
        "gnb = GaussianNB()\n",
        "cancer_NB_fit = gnb.fit(cancer_X_train, cancer_Y_train)\n",
        "cancer_NB_Y_pred=cancer_NB_fit.predict(cancer_X_test)\n",
        "\n",
        "print(\"Accuracy:\",metrics.accuracy_score(cancer_Y_test, cancer_NB_Y_pred))\n",
        "print(\"Precision:\",metrics.precision_score(cancer_Y_test, cancer_NB_Y_pred))\n",
        "print(\"Recall:\",metrics.recall_score(cancer_Y_test, cancer_NB_Y_pred))\n",
        "print(\"F1 Score:\",metrics.f1_score(cancer_Y_test, cancer_NB_Y_pred))"
      ],
      "metadata": {
        "colab": {
          "base_uri": "https://localhost:8080/"
        },
        "id": "08KI35i8V5hc",
        "outputId": "560bb7f5-f470-4698-be5a-12807acd79d3"
      },
      "execution_count": 12,
      "outputs": [
        {
          "output_type": "stream",
          "name": "stdout",
          "text": [
            "Accuracy: 0.9210526315789473\n",
            "Precision: 0.9347826086956522\n",
            "Recall: 0.8775510204081632\n",
            "F1 Score: 0.9052631578947369\n"
          ]
        }
      ]
    },
    {
      "cell_type": "code",
      "source": [
        "#Problem 4\n",
        "#Preprocessing\n",
        "file_path = 'C:/Users/rohau/Documents/ECGR 4105 - Intro to Machine Learning/Datasets/cancer.csv'\n",
        "cancer_dataset = pd.read_csv(file_path)\n",
        "\n",
        "#Mapping text to number\n",
        "varlist =  ['diagnosis']\n",
        "def binary_map(x):\n",
        "    return x.map({'B': 0, 'M': 1})\n",
        "\n",
        "cancer_dataset[varlist] = cancer_dataset[varlist].apply(binary_map)\n",
        "\n",
        "np.random.seed(17)\n",
        "cancer_X_train, cancer_X_test, cancer_Y_train, cancer_Y_test = train_test_split(cancer_X,cancer_Y, train_size = 0.8, test_size = 0.2, random_state = 100)\n",
        "\n"
      ],
      "metadata": {
        "id": "jY7aa74WERzb"
      },
      "execution_count": null,
      "outputs": []
    },
    {
      "cell_type": "code",
      "source": [
        "#Scalar normalization\n",
        "scalerMM = MinMaxScaler()\n",
        "scalerSS = StandardScaler()\n",
        "\n",
        "\n",
        "#Min Max or Standard normalize\n",
        "cancer_X_train = scalerMM.fit_transform(cancer_X_train)\n",
        "cancer_X_test = scalerMM.fit_transform(cancer_X_test)\n",
        "# df_train = scalerSS.fit_transform(df_train)\n",
        "# df_test = scalerSS.fit_transform(df_test)\n",
        "\n",
        "\n",
        "\n",
        "cancer_X = cancer_dataset.loc[:, ~cancer_dataset.columns.isin(['id', 'diagnosis','Unnamed: 32'])]\n",
        "cancer_Y = cancer_dataset['diagnosis'].values"
      ],
      "metadata": {
        "id": "e-zXPQT_ESgL"
      },
      "execution_count": null,
      "outputs": []
    },
    {
      "cell_type": "code",
      "source": [
        "PCA_log_results=pd.DataFrame(columns=['K','Accuracy','Precision','Recall','F1'])\n",
        "\n",
        "from sklearn.decomposition import PCA\n",
        "\n",
        "K=20\n",
        "arange=np.arange(1,K)\n",
        "for i in arange:\n",
        "    pca = PCA(n_components=i)\n",
        "    principalComponents = pca.fit_transform(cancer_X_train)\n",
        "    principalComponents_test = pca.fit_transform(cancer_X_test)\n",
        "\n",
        "    classifier = LogisticRegression(random_state=0)\n",
        "    classifier.fit(principalComponents, cancer_Y_train)\n",
        "    cancer_Y_pred = classifier.predict(principalComponents_test)\n",
        "\n",
        "    accuracy = metrics.accuracy_score(cancer_Y_test, cancer_Y_pred)\n",
        "    precision = metrics.precision_score(cancer_Y_test, cancer_Y_pred)\n",
        "    recall = metrics.recall_score(cancer_Y_test, cancer_Y_pred)\n",
        "    f1 = metrics.f1_score(cancer_Y_test, cancer_Y_pred)\n",
        "\n",
        "    cancer_data= {'K':i,'Accuracy':accuracy,'Precision':precision,'Recall': recall,'F1': f1}\n",
        "    PCA_log_results = PCA_log_results.append(cancer_data,ignore_index=True)"
      ],
      "metadata": {
        "id": "x7Dt6bpeEUm-"
      },
      "execution_count": null,
      "outputs": []
    },
    {
      "cell_type": "code",
      "source": [
        "#Plot stats for PCA/Logistic\n",
        "fig1, ax = plt.subplots()\n",
        "ax.plot(PCA_log_results['Accuracy'])\n",
        "ax.plot(PCA_log_results['Precision'])\n",
        "ax.plot(PCA_log_results['Recall'])\n",
        "ax.plot(PCA_log_results['F1'])\n",
        "ax.legend(['Accuracy','Precision','Recall','F1'])\n",
        "ax.set_title('Statistics for the PCA extraction logistic regression')\n",
        "ax.set_xlabel('K')\n",
        "ax.set_ylabel('Stat Value')\n",
        "plt.xlim(1,K)\n",
        "plt.xticks(arange)"
      ],
      "metadata": {
        "id": "Plu8OKO2EW4C"
      },
      "execution_count": null,
      "outputs": []
    },
    {
      "cell_type": "code",
      "source": [
        "#Problem 5 - cancer data with the Bayes/PCA regression\n",
        "\n",
        "#Preprocessing\n",
        "file_path = 'C:/Users/rohau/Documents/ECGR 4105 - Intro to Machine Learning/Datasets/cancer.csv'\n",
        "cancer_dataset = pd.read_csv(file_path)\n",
        "\n",
        "#Mapping text to number\n",
        "varlist =  ['diagnosis']\n",
        "def binary_map(x):\n",
        "    return x.map({'B': 0, 'M': 1})\n",
        "\n",
        "cancer_dataset[varlist] = cancer_dataset[varlist].apply(binary_map)\n",
        "\n",
        "np.random.seed(17)\n",
        "cancer_X_train, cancer_X_test, cancer_Y_train, cancer_Y_test = train_test_split(cancer_X,cancer_Y, train_size = 0.8, test_size = 0.2, random_state = 100)\n",
        "\n"
      ],
      "metadata": {
        "id": "bh5tSwLTEYec"
      },
      "execution_count": null,
      "outputs": []
    },
    {
      "cell_type": "code",
      "source": [
        "#Scalar normalization\n",
        "scalerMM = MinMaxScaler()\n",
        "scalerSS = StandardScaler()\n",
        "\n",
        "\n",
        "#Min Max or Standard normalize\n",
        "cancer_X_train = scalerMM.fit_transform(cancer_X_train)\n",
        "cancer_X_test = scalerMM.fit_transform(cancer_X_test)\n",
        "# df_train = scalerSS.fit_transform(df_train)\n",
        "# df_test = scalerSS.fit_transform(df_test)\n",
        "\n",
        "\n",
        "cancer_X = cancer_dataset.loc[:, ~cancer_dataset.columns.isin(['id', 'diagnosis','Unnamed: 32'])]\n",
        "cancer_Y = cancer_dataset['diagnosis'].values"
      ],
      "metadata": {
        "id": "LXY5kl1HEbQe"
      },
      "execution_count": null,
      "outputs": []
    },
    {
      "cell_type": "code",
      "source": [
        "\n",
        "PCA_log_results=pd.DataFrame(columns=['K','Accuracy','Precision','Recall','F1'])\n",
        "\n",
        "from sklearn.decomposition import PCA\n",
        "\n",
        "K=20\n",
        "arange=np.arange(1,K)\n",
        "for i in arange:\n",
        "    pca = PCA(n_components=i)\n",
        "    principalComponents = pca.fit_transform(cancer_X_train)\n",
        "    principalComponents_test = pca.fit_transform(cancer_X_test)\n",
        "\n",
        "    cancer_NB_fit = gnb.fit(principalComponents, cancer_Y_train)\n",
        "    cancer_NB_Y_pred=cancer_NB_fit.predict(principalComponents_test)\n",
        "\n",
        "\n",
        "    accuracy = metrics.accuracy_score(cancer_Y_test, cancer_Y_pred)\n",
        "    precision = metrics.precision_score(cancer_Y_test, cancer_Y_pred)\n",
        "    recall = metrics.recall_score(cancer_Y_test, cancer_Y_pred)\n",
        "    f1 = metrics.f1_score(cancer_Y_test, cancer_Y_pred)\n",
        "\n",
        "    cancer_data= {'K':i,'Accuracy':accuracy,'Precision':precision,'Recall': recall,'F1': f1}\n",
        "    PCA_log_results = PCA_log_results.append(cancer_data,ignore_index=True)"
      ],
      "metadata": {
        "id": "atf1D8SVEct7"
      },
      "execution_count": null,
      "outputs": []
    },
    {
      "cell_type": "code",
      "source": [
        "#Plot stats for PCA/Logistic\n",
        "fig1, ax = plt.subplots()\n",
        "ax.plot(PCA_log_results['Accuracy'])\n",
        "ax.plot(PCA_log_results['Precision'])\n",
        "ax.plot(PCA_log_results['Recall'])\n",
        "ax.plot(PCA_log_results['F1'])\n",
        "ax.legend(['Accuracy','Precision','Recall','F1'])\n",
        "ax.set_title('Statistics for the PCA extraction Baysien regression')\n",
        "ax.set_xlabel('K')\n",
        "ax.set_ylabel('Stat Value')\n",
        "plt.xlim(1,K)\n",
        "plt.xticks(arange)\n"
      ],
      "metadata": {
        "id": "V_K5TUQtEel4"
      },
      "execution_count": null,
      "outputs": []
    }
  ]
}